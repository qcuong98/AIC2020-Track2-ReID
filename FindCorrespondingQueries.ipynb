{
 "cells": [
  {
   "cell_type": "code",
   "execution_count": 3,
   "metadata": {},
   "outputs": [],
   "source": [
    "import torch\n",
    "from torch.optim import lr_scheduler\n",
    "import torch.optim as optim\n",
    "from torch.autograd import Variable\n",
    "\n",
    "from torchvision import transforms\n",
    "\n",
    "from trainer import fit\n",
    "import numpy as np\n",
    "\n",
    "cuda = torch.cuda.is_available()"
   ]
  },
  {
   "cell_type": "code",
   "execution_count": 4,
   "metadata": {},
   "outputs": [],
   "source": [
    "# Prepare DataLoader\n",
    "from datasets import ImageFolderDataset\n",
    "import csv\n",
    "\n",
    "query_folder = '../AIC20_ReID/image_query'\n",
    "query_csv = 'metadata/Label-Test-Query - Query.csv'\n",
    "\n",
    "size = (224, 224)\n",
    "query_images = []\n",
    "query_cluster_codes = []\n",
    "\n",
    "with open(query_csv, 'r') as csv_file:\n",
    "    csv_reader = csv.reader(csv_file)\n",
    "    header = next(csv_reader)\n",
    "    for row in csv_reader:\n",
    "        image_name, cluster_code = row[0], row[5]\n",
    "        cluster = cluster_code.split(\"_\")[2]\n",
    "        if int(cluster) > 0 and int(cluster) <= 50:\n",
    "            query_images.append(image_name)\n",
    "            query_cluster_codes.append(image_name)\n",
    "            \n",
    "query_dataset = ImageFolderDataset(query_folder, query_images, query_cluster_codes,\n",
    "                                   transform = transforms.Compose([\n",
    "                                        transforms.Resize(size),  \n",
    "                                        transforms.ToTensor()\n",
    "                                   ]))\n",
    "batch_size = 8\n",
    "kwargs = {'num_workers': 1, 'pin_memory': True} if cuda else {}\n",
    "query_loader = torch.utils.data.DataLoader(query_dataset, batch_size=batch_size, shuffle=True, **kwargs)"
   ]
  },
  {
   "cell_type": "code",
   "execution_count": 5,
   "metadata": {},
   "outputs": [
    {
     "name": "stderr",
     "output_type": "stream",
     "text": [
      "/home/cuong/AIC20-Track2/venv/lib/python3.6/site-packages/torch/serialization.py:593: SourceChangeWarning: source code of class 'torch.nn.modules.container.ModuleList' has changed. you can retrieve the original source code by accessing the object's source attribute or set `torch.nn.Module.dump_patches = True` and use the patch tool to revert the changes.\n",
      "  warnings.warn(msg, SourceChangeWarning)\n"
     ]
    }
   ],
   "source": [
    "# Load Model\n",
    "model_path = 'weights/onlinetriplet-b4-200405-hardest_30epochs.pth'\n",
    "model = torch.load(model_path)\n",
    "# feature_extractor = model.embedding_net\n",
    "feature_extractor = model"
   ]
  },
  {
   "cell_type": "code",
   "execution_count": 6,
   "metadata": {},
   "outputs": [],
   "source": [
    "N_DIMS = 1792\n",
    "def extract_embeddings(dataloader, model):\n",
    "    with torch.no_grad():\n",
    "        model.eval()\n",
    "        embeddings = np.zeros((len(dataloader.dataset), N_DIMS))\n",
    "        labels = []\n",
    "        k = 0\n",
    "        for images, target in dataloader:\n",
    "            if cuda:\n",
    "                images = images.cuda()\n",
    "            embeddings[k:k+len(images)] = model.get_embedding(images).data.cpu().numpy()\n",
    "            labels += target\n",
    "            k += len(images)\n",
    "    return embeddings, labels"
   ]
  },
  {
   "cell_type": "code",
   "execution_count": 7,
   "metadata": {},
   "outputs": [],
   "source": [
    "query_embedding, query_labels = extract_embeddings(query_loader, model)"
   ]
  },
  {
   "cell_type": "code",
   "execution_count": 39,
   "metadata": {},
   "outputs": [],
   "source": [
    "def pdist_torch(emb1, emb2):\n",
    "    m, n = emb1.shape[0], emb2.shape[0]\n",
    "    emb1_pow = torch.pow(emb1, 2).sum(dim = 1, keepdim = True).expand(m, n)\n",
    "    emb2_pow = torch.pow(emb2, 2).sum(dim = 1, keepdim = True).expand(n, m).t()\n",
    "    dist_mtx = emb1_pow + emb2_pow\n",
    "    dist_mtx = dist_mtx.addmm_(1, -2, emb1, emb2.t())\n",
    "    dist_mtx = dist_mtx.clamp(min = 1e-12).sqrt()\n",
    "    return dist_mtx\n",
    "\n",
    "def run_query_query(emb_query):\n",
    "    #Calculate distance matrix between query images and gallery images\n",
    "    dist_mtx = pdist_torch(emb_query, emb_query).cpu().detach().numpy()\n",
    "    return dist_mtx"
   ]
  },
  {
   "cell_type": "code",
   "execution_count": 40,
   "metadata": {},
   "outputs": [],
   "source": [
    "query_embedding_indices = np.argsort(np.asarray(query_labels))\n",
    "query_embedding_sorted = np.asarray([query_embedding[i] for i in query_embedding_indices])\n",
    "query_labels_sorted = np.asarray([query_labels[i] for i in query_embedding_indices])\n",
    "\n",
    "query_tensor = torch.from_numpy(query_embedding_sorted)\n",
    "if cuda:\n",
    "    query_tensor = query_tensor.cuda()\n",
    "    \n",
    "dists = run_query_query(query_tensor)"
   ]
  },
  {
   "cell_type": "code",
   "execution_count": 57,
   "metadata": {},
   "outputs": [
    {
     "name": "stdout",
     "output_type": "stream",
     "text": [
      "[0, 153]\n",
      "[1, 60, 165]\n",
      "[4, 133, 107]\n",
      "[5, 14, 149]\n",
      "[7, 54, 57, 162, 19, 44, 48, 82, 102, 174, 91, 35, 120, 68]\n",
      "[10, 166, 173]\n",
      "[11, 138]\n",
      "[12, 38]\n",
      "[16, 17]\n",
      "[18, 67, 116, 156]\n",
      "[20, 55, 72, 42, 134, 151, 158]\n",
      "[22, 36]\n",
      "[25, 80, 128]\n",
      "[27, 137]\n",
      "[28, 118, 88, 124, 152]\n",
      "[29, 115, 161]\n",
      "[31, 150, 135]\n",
      "[34, 121, 159]\n",
      "[37, 130]\n",
      "[43, 47]\n",
      "[45, 63, 85]\n",
      "[51, 98]\n",
      "[53, 164]\n",
      "[56, 129, 141]\n",
      "[59, 74, 89, 90, 171, 95, 147]\n",
      "[62, 66]\n",
      "[65, 86]\n",
      "[69, 70, 160]\n",
      "[78, 155, 113]\n",
      "[87, 97, 140]\n",
      "[93, 103, 163, 168]\n",
      "[101, 106, 111, 148, 170]\n",
      "[109, 117, 167]\n",
      "[125, 132]\n",
      "[139, 146]\n",
      "[143, 169]\n"
     ]
    }
   ],
   "source": [
    "threshold = 0.9\n",
    "n_queries = len(query_labels_sorted)\n",
    "\n",
    "mark = [False for i in range(n_queries)]\n",
    "\n",
    "def DFS(u, component):\n",
    "    mark[u] = True\n",
    "    component.append(u)\n",
    "    for v in range(n_queries):\n",
    "        if not mark[v] and dists[u][v] < threshold:\n",
    "            DFS(v, component)\n",
    "\n",
    "components = []\n",
    "for idx in range(n_queries):\n",
    "    if not mark[idx]:\n",
    "        components.append([])\n",
    "        DFS(idx, components[-1])\n",
    "\n",
    "for component in components:\n",
    "    if len(component) > 1:\n",
    "        print(component)"
   ]
  },
  {
   "cell_type": "code",
   "execution_count": 58,
   "metadata": {},
   "outputs": [],
   "source": [
    "import os\n",
    "from shutil import copyfile\n",
    "\n",
    "output_path = '../query_groups'\n",
    "\n",
    "os.mkdir(output_path)\n",
    "\n",
    "for idx, component in enumerate(components):\n",
    "    group_path = os.path.join(output_path, str(idx)) \n",
    "    os.mkdir(group_path)\n",
    "    for vertical in component:\n",
    "        copyfile(os.path.join(query_folder, query_labels_sorted[vertical]), \n",
    "                 os.path.join(group_path, query_labels_sorted[vertical]))\n",
    "        "
   ]
  }
 ],
 "metadata": {
  "kernelspec": {
   "display_name": "Python 3",
   "language": "python",
   "name": "python3"
  },
  "language_info": {
   "codemirror_mode": {
    "name": "ipython",
    "version": 3
   },
   "file_extension": ".py",
   "mimetype": "text/x-python",
   "name": "python",
   "nbconvert_exporter": "python",
   "pygments_lexer": "ipython3",
   "version": "3.6.9"
  }
 },
 "nbformat": 4,
 "nbformat_minor": 4
}
