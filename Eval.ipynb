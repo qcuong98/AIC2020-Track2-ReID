{
 "cells": [
  {
   "cell_type": "code",
   "execution_count": 1,
   "metadata": {},
   "outputs": [
    {
     "name": "stdout",
     "output_type": "stream",
     "text": [
      "False\n"
     ]
    }
   ],
   "source": [
    "import torch\n",
    "from torch.optim import lr_scheduler\n",
    "import torch.optim as optim\n",
    "from torch.autograd import Variable\n",
    "\n",
    "from torchvision import transforms\n",
    "\n",
    "from trainer import fit\n",
    "import numpy as np\n",
    "\n",
    "cuda = torch.cuda.is_available()\n",
    "print(cuda)"
   ]
  },
  {
   "cell_type": "code",
   "execution_count": 2,
   "metadata": {},
   "outputs": [],
   "source": [
    "# Set up data loaders\n",
    "import csv\n",
    "from datasets import ImageFolderDataset\n",
    "\n",
    "root_dir = '../AIC20_ReID/image_train'\n",
    "query_csv = 'metadata/reid_query_easy.csv'\n",
    "gallery_csv = 'metadata/reid_gallery_easy.csv'\n",
    "\n",
    "size = (224, 224)\n",
    "\n",
    "def get_images_labels(vehicle_csv):\n",
    "    image_names = []\n",
    "    labels = []\n",
    "    with open(vehicle_csv, 'r') as csv_file:\n",
    "        csv_reader = csv.reader(csv_file)\n",
    "        header = next(csv_reader)\n",
    "        for row in csv_reader:\n",
    "            image_name, vehicle_id = row\n",
    "            image_names.append(image_name)\n",
    "            labels.append(int(vehicle_id))\n",
    "    return image_names, labels\n",
    "\n",
    "query_image_names, query_labels = get_images_labels(query_csv) \n",
    "gallery_image_names, gallery_labels = get_images_labels(gallery_csv) \n",
    "\n",
    "query_dataset = ImageFolderDataset(root_dir, query_image_names, query_labels,\n",
    "                                       transform = transforms.Compose([\n",
    "                                        transforms.Resize(size),  \n",
    "                                        transforms.ToTensor()\n",
    "                                      ]))\n",
    "gallery_dataset = ImageFolderDataset(root_dir, gallery_image_names, gallery_labels,\n",
    "                                     transform = transforms.Compose([\n",
    "                                        transforms.Resize(size),\n",
    "                                        transforms.ToTensor()\n",
    "                                      ]))\n",
    "\n",
    "batch_size = 8\n",
    "kwargs = {'num_workers': 1, 'pin_memory': True} if cuda else {}\n",
    "query_loader = torch.utils.data.DataLoader(query_dataset, batch_size=batch_size, shuffle=True, **kwargs)\n",
    "gallery_loader = torch.utils.data.DataLoader(gallery_dataset, batch_size=batch_size, shuffle=False, **kwargs)"
   ]
  },
  {
   "cell_type": "code",
   "execution_count": null,
   "metadata": {},
   "outputs": [],
   "source": [
    "PATH = 'weights/onlinetriplet-b4-200405-hardest_1.pth'\n",
    "model = torch.load(PATH)\n",
    "# feature_extractor = model.embedding_net\n",
    "feature_extractor = model"
   ]
  },
  {
   "cell_type": "code",
   "execution_count": 5,
   "metadata": {},
   "outputs": [],
   "source": [
    "N_DIMS = 1792\n",
    "\n",
    "def extract_embeddings(dataloader, model):\n",
    "    with torch.no_grad():\n",
    "        model.eval()\n",
    "        embeddings = np.zeros((len(dataloader.dataset), N_DIMS))\n",
    "        labels = np.zeros(len(dataloader.dataset))\n",
    "        k = 0\n",
    "        for images, target in dataloader:\n",
    "            if cuda:\n",
    "                images = images.cuda()\n",
    "            embeddings[k:k+len(images)] = model.get_embedding(images).data.cpu().numpy()\n",
    "            labels[k:k+len(images)] = target.numpy()\n",
    "            k += len(images)\n",
    "    return embeddings, labels"
   ]
  },
  {
   "cell_type": "code",
   "execution_count": 6,
   "metadata": {},
   "outputs": [],
   "source": [
    "query_embedding, query_labels = extract_embeddings(query_loader, model)\n",
    "gallery_embedding, gallery_labels = extract_embeddings(gallery_loader, model)"
   ]
  },
  {
   "cell_type": "code",
   "execution_count": 7,
   "metadata": {},
   "outputs": [
    {
     "name": "stdout",
     "output_type": "stream",
     "text": [
      "(10775, 1792)\n"
     ]
    }
   ],
   "source": [
    "print(query_embedding.shape)\n",
    "print(gallery_embedding.shape)"
   ]
  },
  {
   "cell_type": "code",
   "execution_count": 8,
   "metadata": {},
   "outputs": [
    {
     "name": "stdout",
     "output_type": "stream",
     "text": [
      "(0.8153732222626245, array([0.9686411], dtype=float32))\n"
     ]
    }
   ],
   "source": [
    "import reid_metrics\n",
    "query_tensor = torch.from_numpy(query_embedding)\n",
    "gallery_tensor = torch.from_numpy(gallery_embedding)\n",
    "if cuda:\n",
    "    query_tensor = query_tensor.cuda()\n",
    "    gallery_tensor = gallery_tensor.cuda()\n",
    "    \n",
    "print(reid_metrics.reid_evaluate(query_tensor, gallery_tensor, query_labels, gallery_labels))"
   ]
  }
 ],
 "metadata": {
  "kernelspec": {
   "display_name": "Python 3",
   "language": "python",
   "name": "python3"
  },
  "language_info": {
   "codemirror_mode": {
    "name": "ipython",
    "version": 3
   },
   "file_extension": ".py",
   "mimetype": "text/x-python",
   "name": "python",
   "nbconvert_exporter": "python",
   "pygments_lexer": "ipython3",
   "version": "3.6.9"
  }
 },
 "nbformat": 4,
 "nbformat_minor": 4
}
