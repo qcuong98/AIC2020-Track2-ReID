{
 "cells": [
  {
   "cell_type": "code",
   "execution_count": 1,
   "metadata": {},
   "outputs": [],
   "source": [
    "import torch\n",
    "from torch.optim import lr_scheduler\n",
    "import torch.optim as optim\n",
    "from torch.autograd import Variable\n",
    "\n",
    "from torchvision import transforms\n",
    "\n",
    "from trainer import fit\n",
    "import numpy as np\n",
    "\n",
    "cuda = torch.cuda.is_available()"
   ]
  },
  {
   "cell_type": "code",
   "execution_count": 4,
   "metadata": {},
   "outputs": [],
   "source": [
    "query_folder = '../AIC20_ReID/image_query'\n",
    "gallery_folder = '../AIC20_ReID/image_test'\n",
    "output_folder = '../query_results/'\n",
    "model_path = 'weights/onlinetriplet-b4-200405-hardest_30epochs.pth'"
   ]
  },
  {
   "cell_type": "code",
   "execution_count": 5,
   "metadata": {},
   "outputs": [],
   "source": [
    "# Prepare DataLoaders\n",
    "from datasets import ImageFolderDataset\n",
    "from pathlib import Path\n",
    "\n",
    "query_names = []\n",
    "for file_name in Path(query_folder).glob('*.jpg'):\n",
    "    query_names.append(str(file_name.parts[-1]))\n",
    "gallery_names = []    \n",
    "for file_name in Path(gallery_folder).glob('*.jpg'):\n",
    "    gallery_names.append(str(file_name.parts[-1]))\n",
    "\n",
    "size = (224, 224)\n",
    "\n",
    "query_dataset = ImageFolderDataset(query_folder, query_names, query_names,\n",
    "                                       transform = transforms.Compose([\n",
    "                                        transforms.Resize(size),  \n",
    "                                        transforms.ToTensor()\n",
    "                                      ]))\n",
    "gallery_dataset = ImageFolderDataset(gallery_folder, gallery_names, gallery_names,\n",
    "                                     transform = transforms.Compose([\n",
    "                                        transforms.Resize(size),\n",
    "                                        transforms.ToTensor()\n",
    "                                      ]))\n",
    "\n",
    "batch_size = 8\n",
    "kwargs = {'num_workers': 1, 'pin_memory': True} if cuda else {}\n",
    "query_loader = torch.utils.data.DataLoader(query_dataset, batch_size=batch_size, shuffle=True, **kwargs)\n",
    "gallery_loader = torch.utils.data.DataLoader(gallery_dataset, batch_size=batch_size, shuffle=False, **kwargs)"
   ]
  },
  {
   "cell_type": "code",
   "execution_count": null,
   "metadata": {},
   "outputs": [],
   "source": [
    "# Load Model\n",
    "model = torch.load(model_path)\n",
    "# feature_extractor = model.embedding_net\n",
    "feature_extractor = model"
   ]
  },
  {
   "cell_type": "code",
   "execution_count": 5,
   "metadata": {},
   "outputs": [],
   "source": [
    "N_DIMS = 1792\n",
    "def extract_embeddings(dataloader, model):\n",
    "    with torch.no_grad():\n",
    "        model.eval()\n",
    "        embeddings = np.zeros((len(dataloader.dataset), N_DIMS))\n",
    "        labels = []\n",
    "        k = 0\n",
    "        for images, target in dataloader:\n",
    "            if cuda:\n",
    "                images = images.cuda()\n",
    "            embeddings[k:k+len(images)] = model.get_embedding(images).data.cpu().numpy()\n",
    "            labels += target\n",
    "            k += len(images)\n",
    "    return embeddings, labels"
   ]
  },
  {
   "cell_type": "code",
   "execution_count": 8,
   "metadata": {},
   "outputs": [],
   "source": [
    "query_embedding, query_labels = extract_embeddings(query_loader, model)\n",
    "gallery_embedding, gallery_labels = extract_embeddings(gallery_loader, model)"
   ]
  },
  {
   "cell_type": "code",
   "execution_count": 9,
   "metadata": {},
   "outputs": [],
   "source": [
    "import torch\n",
    "\n",
    "def pdist_torch(emb1, emb2):\n",
    "    m, n = emb1.shape[0], emb2.shape[0]\n",
    "    emb1_pow = torch.pow(emb1, 2).sum(dim = 1, keepdim = True).expand(m, n)\n",
    "    emb2_pow = torch.pow(emb2, 2).sum(dim = 1, keepdim = True).expand(n, m).t()\n",
    "    dist_mtx = emb1_pow + emb2_pow\n",
    "    dist_mtx = dist_mtx.addmm_(1, -2, emb1, emb2.t())\n",
    "    dist_mtx = dist_mtx.clamp(min = 1e-12).sqrt()\n",
    "    return dist_mtx\n",
    "\n",
    "def run_query(emb_query, emb_gallery, top_k=100):\n",
    "    #Calculate distance matrix between query images and gallery images\n",
    "    dist_mtx = pdist_torch(emb_query,emb_gallery).cpu().detach().numpy()\n",
    "    n_q, n_g = dist_mtx.shape\n",
    "    #sort \"gallery index\" in \"distance\" ascending order \n",
    "    indices = np.argsort(dist_mtx, axis = 1)\n",
    "    return indices[:, :top_k]"
   ]
  },
  {
   "cell_type": "code",
   "execution_count": 10,
   "metadata": {},
   "outputs": [],
   "source": [
    "query_tensor = torch.from_numpy(query_embedding)\n",
    "gallery_tensor = torch.from_numpy(gallery_embedding)\n",
    "if cuda:\n",
    "    query_tensor = query_tensor.cuda()\n",
    "    gallery_tensor = gallery_tensor.cuda()\n",
    "    \n",
    "indices = run_query(query_tensor, gallery_tensor)"
   ]
  },
  {
   "cell_type": "code",
   "execution_count": 23,
   "metadata": {},
   "outputs": [],
   "source": [
    "import os\n",
    "\n",
    "if not os.path.exists(output_folder):\n",
    "    os.mkdir(output_folder)\n",
    "for i, query_file in enumerate(query_labels):\n",
    "    file_path = os.path.join(output_folder, os.path.splitext(query_file)[0] + \".txt\")\n",
    "    with open(file_path, \"w\") as f:\n",
    "        for j in range(100):\n",
    "            f.write(os.path.splitext(gallery_labels[indices[i][j]])[0] + \"\\n\")\n",
    "    if (i + 1 % 100 == 0):\n",
    "        print(\"PROCESSED %d FILES\" % (i + 1))\n"
   ]
  }
 ],
 "metadata": {
  "kernelspec": {
   "display_name": "Python 3",
   "language": "python",
   "name": "python3"
  },
  "language_info": {
   "codemirror_mode": {
    "name": "ipython",
    "version": 3
   },
   "file_extension": ".py",
   "mimetype": "text/x-python",
   "name": "python",
   "nbconvert_exporter": "python",
   "pygments_lexer": "ipython3",
   "version": "3.6.9"
  }
 },
 "nbformat": 4,
 "nbformat_minor": 4
}
