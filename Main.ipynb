{
 "cells": [
  {
   "cell_type": "code",
   "execution_count": 1,
   "metadata": {},
   "outputs": [],
   "source": [
    "import torch\n",
    "from torch.optim import lr_scheduler\n",
    "import torch.optim as optim\n",
    "from torch.autograd import Variable\n",
    "\n",
    "from torchvision import transforms\n",
    "\n",
    "from trainer import fit\n",
    "import numpy as np\n",
    "\n",
    "cuda = torch.cuda.is_available()"
   ]
  },
  {
   "cell_type": "markdown",
   "metadata": {},
   "source": [
    "# TRIPLET"
   ]
  },
  {
   "cell_type": "code",
   "execution_count": 2,
   "metadata": {},
   "outputs": [],
   "source": [
    "# Set up data loaders\n",
    "from datasets import TripletDataset\n",
    "\n",
    "root_dir = '/home/cuong/AIC20-Track2/AIC20_track2/AIC20_ReID/image_train'\n",
    "train_csv = 'cls_train.csv'\n",
    "val_csv = 'cls_val.csv'\n",
    "label_json = 'train_image_metadata.json'\n",
    "\n",
    "size = (224, 224)\n",
    "\n",
    "triplet_train_dataset = TripletDataset(root_dir, train_csv, label_json,\n",
    "                                       transform = transforms.Compose([\n",
    "                                        transforms.Resize(size),  \n",
    "                                        transforms.ToTensor()\n",
    "                                      ]))\n",
    "triplet_val_dataset = TripletDataset(root_dir, val_csv, label_json,\n",
    "                                     transform = transforms.Compose([\n",
    "                                        transforms.Resize(size),\n",
    "                                        transforms.ToTensor()\n",
    "                                      ]))\n",
    "\n",
    "batch_size = 8\n",
    "kwargs = {'num_workers': 1, 'pin_memory': True} if cuda else {}\n",
    "triplet_train_loader = torch.utils.data.DataLoader(triplet_train_dataset, batch_size=batch_size, shuffle=True, **kwargs)\n",
    "triplet_val_loader = torch.utils.data.DataLoader(triplet_val_dataset, batch_size=batch_size, shuffle=False, **kwargs)"
   ]
  },
  {
   "cell_type": "code",
   "execution_count": 3,
   "metadata": {},
   "outputs": [
    {
     "name": "stdout",
     "output_type": "stream",
     "text": [
      "Loaded pretrained weights for efficientnet-b4\n"
     ]
    }
   ],
   "source": [
    "# Set up the network and training parameters\n",
    "from networks import EfficientNetExtractor, TripletNet\n",
    "from losses import TripletLoss\n",
    "\n",
    "margin = 1.\n",
    "embedding_net = EfficientNetExtractor('b4')\n",
    "model = TripletNet(embedding_net)\n",
    "\n",
    "if cuda:\n",
    "    model.cuda()\n",
    "loss_fn = TripletLoss(margin)\n",
    "lr = 1e-3\n",
    "optimizer = optim.Adam(model.parameters(), lr=lr)\n",
    "scheduler = lr_scheduler.StepLR(optimizer, 8, gamma=0.1, last_epoch=-1)\n",
    "n_epochs = 20\n",
    "log_interval = 100"
   ]
  },
  {
   "cell_type": "code",
   "execution_count": null,
   "metadata": {},
   "outputs": [
    {
     "name": "stderr",
     "output_type": "stream",
     "text": [
      "/home/cuong/AIC20-Track2/venv/lib/python3.6/site-packages/torch/optim/lr_scheduler.py:122: UserWarning: Detected call of `lr_scheduler.step()` before `optimizer.step()`. In PyTorch 1.1.0 and later, you should call them in the opposite order: `optimizer.step()` before `lr_scheduler.step()`.  Failure to do this will result in PyTorch skipping the first value of the learning rate schedule. See more details at https://pytorch.org/docs/stable/optim.html#how-to-adjust-learning-rate\n",
      "  \"https://pytorch.org/docs/stable/optim.html#how-to-adjust-learning-rate\", UserWarning)\n"
     ]
    },
    {
     "name": "stdout",
     "output_type": "stream",
     "text": [
      "Train: [0/25585 (0%)]\tLoss: 24.244934\n"
     ]
    }
   ],
   "source": [
    "fit(triplet_train_loader, triplet_val_loader, model, loss_fn, optimizer, scheduler, n_epochs, cuda, log_interval)"
   ]
  },
  {
   "cell_type": "code",
   "execution_count": null,
   "metadata": {},
   "outputs": [],
   "source": [
    "torch.save(model, 'triplet-b4-200404.pth')"
   ]
  },
  {
   "cell_type": "markdown",
   "metadata": {},
   "source": [
    "# ONLINE TRIPLET LOSS"
   ]
  },
  {
   "cell_type": "code",
   "execution_count": 2,
   "metadata": {},
   "outputs": [],
   "source": [
    "# Set up data loaders\n",
    "from datasets import NormalDataset\n",
    "from datasets import BalancedBatchSampler\n",
    "\n",
    "root_dir = '/home/cuong/AIC20-Track2/AIC20_track2/AIC20_ReID/image_train'\n",
    "train_csv = 'cls_train.csv'\n",
    "val_csv = 'cls_val.csv'\n",
    "label_json = 'train_image_metadata.json'\n",
    "\n",
    "size = (224, 224)\n",
    "\n",
    "train_dataset = NormalDataset(root_dir, train_csv, label_json,\n",
    "                                       transform = transforms.Compose([\n",
    "                                        transforms.Resize(size),  \n",
    "                                        transforms.ToTensor()\n",
    "                                      ]))\n",
    "val_dataset = NormalDataset(root_dir, val_csv, label_json,\n",
    "                                     transform = transforms.Compose([\n",
    "                                        transforms.Resize(size),\n",
    "                                        transforms.ToTensor()\n",
    "                                      ]))\n",
    "\n",
    "\n",
    "\n",
    "train_batch_sampler = BalancedBatchSampler(train_dataset.labels, n_classes=5, n_samples=5)\n",
    "val_batch_sampler = BalancedBatchSampler(val_dataset.labels, n_classes=5, n_samples=5)\n",
    "\n",
    "kwargs = {'num_workers': 1, 'pin_memory': True} if cuda else {}\n",
    "online_train_loader = torch.utils.data.DataLoader(train_dataset, batch_sampler=train_batch_sampler, **kwargs)\n",
    "online_val_loader = torch.utils.data.DataLoader(val_dataset, batch_sampler=val_batch_sampler, **kwargs)"
   ]
  },
  {
   "cell_type": "code",
   "execution_count": 3,
   "metadata": {},
   "outputs": [
    {
     "name": "stdout",
     "output_type": "stream",
     "text": [
      "Loaded pretrained weights for efficientnet-b4\n"
     ]
    }
   ],
   "source": [
    "# Set up the network and training parameters\n",
    "from networks import EfficientNetExtractor\n",
    "from losses import OnlineTripletLoss\n",
    "from utils import AllTripletSelector,HardestNegativeTripletSelector, RandomNegativeTripletSelector, SemihardNegativeTripletSelector # Strategies for selecting triplets within a minibatch\n",
    "from metrics import AverageNonzeroTripletsMetric\n",
    "\n",
    "margin = 1.\n",
    "embedding_net = EfficientNetExtractor('b4')\n",
    "model = embedding_net\n",
    "\n",
    "if cuda:\n",
    "    model.cuda()\n",
    "loss_fn = OnlineTripletLoss(margin, RandomNegativeTripletSelector(margin))\n",
    "lr = 1e-3\n",
    "optimizer = optim.Adam(model.parameters(), lr=lr)\n",
    "scheduler = lr_scheduler.StepLR(optimizer, 8, gamma=0.1, last_epoch=-1)\n",
    "n_epochs = 20\n",
    "log_interval = 100"
   ]
  },
  {
   "cell_type": "code",
   "execution_count": null,
   "metadata": {},
   "outputs": [
    {
     "name": "stderr",
     "output_type": "stream",
     "text": [
      "/home/cuong/AIC20-Track2/venv/lib/python3.6/site-packages/torch/optim/lr_scheduler.py:122: UserWarning: Detected call of `lr_scheduler.step()` before `optimizer.step()`. In PyTorch 1.1.0 and later, you should call them in the opposite order: `optimizer.step()` before `lr_scheduler.step()`.  Failure to do this will result in PyTorch skipping the first value of the learning rate schedule. See more details at https://pytorch.org/docs/stable/optim.html#how-to-adjust-learning-rate\n",
      "  \"https://pytorch.org/docs/stable/optim.html#how-to-adjust-learning-rate\", UserWarning)\n"
     ]
    },
    {
     "name": "stdout",
     "output_type": "stream",
     "text": [
      "Train: [0/25585 (0%)]\tLoss: 26.806299\tAverage nonzero triplets: 45.0\n",
      "Train: [2500/25585 (10%)]\tLoss: 7.513605\tAverage nonzero triplets: 39.21782178217822\n",
      "Train: [5000/25585 (20%)]\tLoss: 3.312215\tAverage nonzero triplets: 34.37313432835821\n",
      "Train: [7500/25585 (29%)]\tLoss: 3.564842\tAverage nonzero triplets: 30.78737541528239\n",
      "Train: [10000/25585 (39%)]\tLoss: 3.150719\tAverage nonzero triplets: 28.2643391521197\n",
      "Train: [12500/25585 (49%)]\tLoss: 3.583415\tAverage nonzero triplets: 26.780439121756487\n",
      "Train: [15000/25585 (59%)]\tLoss: 2.783527\tAverage nonzero triplets: 25.420965058236273\n",
      "Train: [17500/25585 (68%)]\tLoss: 2.617585\tAverage nonzero triplets: 24.332382310984308\n",
      "Train: [20000/25585 (78%)]\tLoss: 2.347412\tAverage nonzero triplets: 23.409488139825218\n",
      "Train: [22500/25585 (88%)]\tLoss: 2.287711\tAverage nonzero triplets: 22.69589345172031\n",
      "Train: [25000/25585 (98%)]\tLoss: 2.089530\tAverage nonzero triplets: 21.972027972027973\n",
      "Epoch: 1/20. Train set: Average loss: 3.3215\tAverage nonzero triplets: 21.92570869990225\n",
      "Epoch: 1/20. Validation set: Average loss: 1.4404\tAverage nonzero triplets: 14.766004415011038\n",
      "Train: [0/25585 (0%)]\tLoss: 1.591244\tAverage nonzero triplets: 18.0\n",
      "Train: [2500/25585 (10%)]\tLoss: 1.879427\tAverage nonzero triplets: 13.366336633663366\n",
      "Train: [5000/25585 (20%)]\tLoss: 1.955852\tAverage nonzero triplets: 14.497512437810945\n",
      "Train: [7500/25585 (29%)]\tLoss: 1.868753\tAverage nonzero triplets: 14.853820598006644\n",
      "Train: [10000/25585 (39%)]\tLoss: 1.685773\tAverage nonzero triplets: 14.763092269326684\n",
      "Train: [12500/25585 (49%)]\tLoss: 1.703044\tAverage nonzero triplets: 14.49500998003992\n",
      "Train: [15000/25585 (59%)]\tLoss: 1.517639\tAverage nonzero triplets: 14.046589018302829\n",
      "Train: [17500/25585 (68%)]\tLoss: 1.673208\tAverage nonzero triplets: 13.995720399429386\n"
     ]
    }
   ],
   "source": [
    "fit(online_train_loader, online_val_loader, model, loss_fn, optimizer, scheduler, n_epochs, cuda, log_interval, metrics=[AverageNonzeroTripletsMetric()])"
   ]
  },
  {
   "cell_type": "code",
   "execution_count": null,
   "metadata": {},
   "outputs": [],
   "source": [
    "torch.save(model, 'onlinetriplet-b4-200404.pth')"
   ]
  }
 ],
 "metadata": {
  "kernelspec": {
   "display_name": "Python 3",
   "language": "python",
   "name": "python3"
  },
  "language_info": {
   "codemirror_mode": {
    "name": "ipython",
    "version": 3
   },
   "file_extension": ".py",
   "mimetype": "text/x-python",
   "name": "python",
   "nbconvert_exporter": "python",
   "pygments_lexer": "ipython3",
   "version": "3.6.9"
  }
 },
 "nbformat": 4,
 "nbformat_minor": 4
}
